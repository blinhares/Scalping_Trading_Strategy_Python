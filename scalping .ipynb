{
 "cells": [
  {
   "cell_type": "markdown",
   "metadata": {},
   "source": [
    "# Realizando uma Analise para Scalping Trading Strategy\n",
    "\n",
    "## Intro\n",
    "\n",
    "Navegando na internet vi um artigo que fizia que este metodo no qual vamos analisar abaixo era efetivo em 74% das vezes, o que chamou atencao, como pode um metodo tao simples ser tao efetivo, é a chance de qualquer pessoa ficar rica...Pensei.\n",
    "\n",
    "Mas não é bem assim... Vejamos.\n",
    "\n",
    "`Scalping Trading Strategy` consiste em uma estrategia simples de compra de venda de acoes baseada em condicoes simples que sao listadas abaixo:\n",
    "\n",
    "- Nos `entramos no jogo` quando: O pregão abre com um aumento de 1% em relação ao preço de fechamento do `dia anterior`.\n",
    "\n",
    "- Nos `saimos do jogo` quando: Existir um aumento de mais de 1% sobre o valor de compra. Se a aç~ao falhar em subir 1% sobre o valor de compra nos saimos ao final do dia.\n",
    "\n",
    "Enfim, a meta é não criar estrategias mirabolantes...\n",
    "\n",
    "Vamos tentar analisar se essa estrategia é vantajosa, se sua simplicidade nos daria algum retorno financeiro e vamos mais alem tentando mostrar, quanto seria esse retorno financeiro.\n"
   ]
  },
  {
   "cell_type": "markdown",
   "metadata": {},
   "source": [
    "## Importando Bibliotecas"
   ]
  },
  {
   "cell_type": "code",
   "execution_count": 13,
   "metadata": {},
   "outputs": [],
   "source": [
    "import pandas as pd\n",
    "import matplotlib.pyplot as plt\n",
    "from termcolor import colored as cl\n",
    "import numpy as np\n",
    "import yfinance as yf\n"
   ]
  },
  {
   "cell_type": "markdown",
   "metadata": {},
   "source": [
    "## Definindo algumas variaveis"
   ]
  },
  {
   "cell_type": "code",
   "execution_count": 14,
   "metadata": {},
   "outputs": [],
   "source": [
    "#ESTE É O PERCENTUAL EM QUE CONSIDERAMOS PARA ENTRAR NO JOGO\n",
    "VAR_P_CLOSE_P_OPEN = 3 # %\n",
    "\n",
    "#ESTE É O PERCENTUAL EM QUE SE VENDERIA AS ACOES...NO CASO DELA SUBIR X% EM RELACAO AO \n",
    "#PRECO DE ABERTURA\n",
    "VAR_P_CHANGE = 1 # %\n",
    "\n",
    "titulos = ['ITUB4.SA','PETR3.SA','AAPL34.SA','GGBR4.SA']\n",
    "periodo = '2y' \n"
   ]
  },
  {
   "cell_type": "markdown",
   "metadata": {},
   "source": [
    "## Extraindo Dados\n",
    "\n",
    "Extrair os dados sera muito importante para para nossa analize e vamos utilizar o `yfinanece` para obter os dados.\n",
    "\n",
    "O Código abaixo realiza a coleta destes dados e os mostra."
   ]
  },
  {
   "cell_type": "code",
   "execution_count": 15,
   "metadata": {},
   "outputs": [
    {
     "data": {
      "text/html": [
       "<div>\n",
       "<style scoped>\n",
       "    .dataframe tbody tr th:only-of-type {\n",
       "        vertical-align: middle;\n",
       "    }\n",
       "\n",
       "    .dataframe tbody tr th {\n",
       "        vertical-align: top;\n",
       "    }\n",
       "\n",
       "    .dataframe thead th {\n",
       "        text-align: right;\n",
       "    }\n",
       "</style>\n",
       "<table border=\"1\" class=\"dataframe\">\n",
       "  <thead>\n",
       "    <tr style=\"text-align: right;\">\n",
       "      <th></th>\n",
       "      <th>Open</th>\n",
       "      <th>High</th>\n",
       "      <th>Low</th>\n",
       "      <th>Close</th>\n",
       "      <th>Volume</th>\n",
       "      <th>Dividends</th>\n",
       "      <th>Stock Splits</th>\n",
       "    </tr>\n",
       "    <tr>\n",
       "      <th>Date</th>\n",
       "      <th></th>\n",
       "      <th></th>\n",
       "      <th></th>\n",
       "      <th></th>\n",
       "      <th></th>\n",
       "      <th></th>\n",
       "      <th></th>\n",
       "    </tr>\n",
       "  </thead>\n",
       "  <tbody>\n",
       "    <tr>\n",
       "      <th>2022-04-18 00:00:00-03:00</th>\n",
       "      <td>38.339142</td>\n",
       "      <td>38.492498</td>\n",
       "      <td>37.770238</td>\n",
       "      <td>38.091793</td>\n",
       "      <td>370814</td>\n",
       "      <td>0.0</td>\n",
       "      <td>0.0</td>\n",
       "    </tr>\n",
       "    <tr>\n",
       "      <th>2022-04-19 00:00:00-03:00</th>\n",
       "      <td>38.091792</td>\n",
       "      <td>38.779423</td>\n",
       "      <td>37.730661</td>\n",
       "      <td>38.388611</td>\n",
       "      <td>329904</td>\n",
       "      <td>0.0</td>\n",
       "      <td>0.0</td>\n",
       "    </tr>\n",
       "    <tr>\n",
       "      <th>2022-04-20 00:00:00-03:00</th>\n",
       "      <td>38.863523</td>\n",
       "      <td>39.026775</td>\n",
       "      <td>37.987908</td>\n",
       "      <td>38.170948</td>\n",
       "      <td>280070</td>\n",
       "      <td>0.0</td>\n",
       "      <td>0.0</td>\n",
       "    </tr>\n",
       "    <tr>\n",
       "      <th>2022-04-22 00:00:00-03:00</th>\n",
       "      <td>38.586490</td>\n",
       "      <td>39.150446</td>\n",
       "      <td>38.388610</td>\n",
       "      <td>38.497444</td>\n",
       "      <td>389402</td>\n",
       "      <td>0.0</td>\n",
       "      <td>0.0</td>\n",
       "    </tr>\n",
       "    <tr>\n",
       "      <th>2022-04-25 00:00:00-03:00</th>\n",
       "      <td>38.418292</td>\n",
       "      <td>39.313696</td>\n",
       "      <td>38.230304</td>\n",
       "      <td>39.293907</td>\n",
       "      <td>350992</td>\n",
       "      <td>0.0</td>\n",
       "      <td>0.0</td>\n",
       "    </tr>\n",
       "  </tbody>\n",
       "</table>\n",
       "</div>"
      ],
      "text/plain": [
       "                                Open       High        Low      Close  Volume  \\\n",
       "Date                                                                            \n",
       "2022-04-18 00:00:00-03:00  38.339142  38.492498  37.770238  38.091793  370814   \n",
       "2022-04-19 00:00:00-03:00  38.091792  38.779423  37.730661  38.388611  329904   \n",
       "2022-04-20 00:00:00-03:00  38.863523  39.026775  37.987908  38.170948  280070   \n",
       "2022-04-22 00:00:00-03:00  38.586490  39.150446  38.388610  38.497444  389402   \n",
       "2022-04-25 00:00:00-03:00  38.418292  39.313696  38.230304  39.293907  350992   \n",
       "\n",
       "                           Dividends  Stock Splits  \n",
       "Date                                                \n",
       "2022-04-18 00:00:00-03:00        0.0           0.0  \n",
       "2022-04-19 00:00:00-03:00        0.0           0.0  \n",
       "2022-04-20 00:00:00-03:00        0.0           0.0  \n",
       "2022-04-22 00:00:00-03:00        0.0           0.0  \n",
       "2022-04-25 00:00:00-03:00        0.0           0.0  "
      ]
     },
     "execution_count": 15,
     "metadata": {},
     "output_type": "execute_result"
    }
   ],
   "source": [
    "titulo = titulos[2]\n",
    "stock = pd.DataFrame(yf.Ticker(titulo).history(period = periodo))\n",
    "stock.head()\n"
   ]
  },
  {
   "cell_type": "markdown",
   "metadata": {},
   "source": [
    "## Calculando a % de Mudança e Aplicando Filtro\n",
    "\n",
    "De acordo com nossa estrategia de entrar no mercado somente se o valor de abertura for 1% maior que o dia anterior, precisamos fazer esse calculo... \n",
    "\n",
    "Para isso usaremos o codigo a seguir..."
   ]
  },
  {
   "cell_type": "code",
   "execution_count": 17,
   "metadata": {},
   "outputs": [
    {
     "name": "stdout",
     "output_type": "stream",
     "text": [
      "4\n"
     ]
    },
    {
     "data": {
      "text/html": [
       "<div>\n",
       "<style scoped>\n",
       "    .dataframe tbody tr th:only-of-type {\n",
       "        vertical-align: middle;\n",
       "    }\n",
       "\n",
       "    .dataframe tbody tr th {\n",
       "        vertical-align: top;\n",
       "    }\n",
       "\n",
       "    .dataframe thead th {\n",
       "        text-align: right;\n",
       "    }\n",
       "</style>\n",
       "<table border=\"1\" class=\"dataframe\">\n",
       "  <thead>\n",
       "    <tr style=\"text-align: right;\">\n",
       "      <th></th>\n",
       "      <th>Open</th>\n",
       "      <th>High</th>\n",
       "      <th>Low</th>\n",
       "      <th>Close</th>\n",
       "      <th>Volume</th>\n",
       "      <th>Dividends</th>\n",
       "      <th>Stock Splits</th>\n",
       "      <th>p_close_open</th>\n",
       "    </tr>\n",
       "    <tr>\n",
       "      <th>Date</th>\n",
       "      <th></th>\n",
       "      <th></th>\n",
       "      <th></th>\n",
       "      <th></th>\n",
       "      <th></th>\n",
       "      <th></th>\n",
       "      <th></th>\n",
       "      <th></th>\n",
       "    </tr>\n",
       "  </thead>\n",
       "  <tbody>\n",
       "    <tr>\n",
       "      <th>2022-11-03 00:00:00-03:00</th>\n",
       "      <td>36.266852</td>\n",
       "      <td>36.599256</td>\n",
       "      <td>35.274599</td>\n",
       "      <td>35.324211</td>\n",
       "      <td>581856</td>\n",
       "      <td>0.0</td>\n",
       "      <td>0.0</td>\n",
       "      <td>5.224946</td>\n",
       "    </tr>\n",
       "    <tr>\n",
       "      <th>2023-08-04 00:00:00-03:00</th>\n",
       "      <td>45.007719</td>\n",
       "      <td>45.326710</td>\n",
       "      <td>44.160395</td>\n",
       "      <td>44.260082</td>\n",
       "      <td>525596</td>\n",
       "      <td>0.0</td>\n",
       "      <td>0.0</td>\n",
       "      <td>3.628595</td>\n",
       "    </tr>\n",
       "    <tr>\n",
       "      <th>2024-02-02 00:00:00-03:00</th>\n",
       "      <td>44.460266</td>\n",
       "      <td>46.448491</td>\n",
       "      <td>44.320392</td>\n",
       "      <td>46.218693</td>\n",
       "      <td>287047</td>\n",
       "      <td>0.0</td>\n",
       "      <td>0.0</td>\n",
       "      <td>3.700498</td>\n",
       "    </tr>\n",
       "    <tr>\n",
       "      <th>2024-02-14 00:00:00-03:00</th>\n",
       "      <td>45.450001</td>\n",
       "      <td>45.900002</td>\n",
       "      <td>45.369999</td>\n",
       "      <td>45.900002</td>\n",
       "      <td>217062</td>\n",
       "      <td>0.0</td>\n",
       "      <td>0.0</td>\n",
       "      <td>3.008963</td>\n",
       "    </tr>\n",
       "  </tbody>\n",
       "</table>\n",
       "</div>"
      ],
      "text/plain": [
       "                                Open       High        Low      Close  Volume  \\\n",
       "Date                                                                            \n",
       "2022-11-03 00:00:00-03:00  36.266852  36.599256  35.274599  35.324211  581856   \n",
       "2023-08-04 00:00:00-03:00  45.007719  45.326710  44.160395  44.260082  525596   \n",
       "2024-02-02 00:00:00-03:00  44.460266  46.448491  44.320392  46.218693  287047   \n",
       "2024-02-14 00:00:00-03:00  45.450001  45.900002  45.369999  45.900002  217062   \n",
       "\n",
       "                           Dividends  Stock Splits  p_close_open  \n",
       "Date                                                              \n",
       "2022-11-03 00:00:00-03:00        0.0           0.0      5.224946  \n",
       "2023-08-04 00:00:00-03:00        0.0           0.0      3.628595  \n",
       "2024-02-02 00:00:00-03:00        0.0           0.0      3.700498  \n",
       "2024-02-14 00:00:00-03:00        0.0           0.0      3.008963  "
      ]
     },
     "execution_count": 17,
     "metadata": {},
     "output_type": "execute_result"
    }
   ],
   "source": [
    "stock['p_close_open'] = np.nan # criando uma coluna NAN\n",
    "\n",
    "for i in range(1, len(stock)):\n",
    "    diff = (stock['Close'].iloc[i-1] - stock['Open'].iloc[i])\n",
    "    # avg = (stock['Close'].iloc[i-1] + stock['Open'].iloc[i])/2\n",
    "    avg = stock['Close'].iloc[i-1] \n",
    "    pct_change = (diff / avg) * 100\n",
    "    #armazena o vlaor encontrado\n",
    "    stock.loc[stock.index[i] ,'p_close_open'] = pct_change\n",
    "\n",
    "\n",
    "# filtra os resultados caso o % encontrado dia anterior valor de abertura for igual ao desejado\n",
    "#no caso do exemplo 1%\n",
    "stock = stock[stock['p_close_open'] > VAR_P_CLOSE_P_OPEN]\n",
    "\n",
    "n_vezes_p_abertura_maior = stock['p_close_open'].count()\n",
    "print(n_vezes_p_abertura_maior)\n",
    "\n",
    "stock.head()\n",
    "\n"
   ]
  },
  {
   "cell_type": "markdown",
   "metadata": {},
   "source": [
    "## Testando Estrategia\n",
    "\n",
    "Com os dados em mãos, vamos verificar a eficacia de nossa estrategia. Utilizaremos os dados obtidos para verificar em quais porcentagem de casos seriamos eficazes.\n",
    "\n",
    "Primeiro vamos contar quantos dias obtivemos um % de ganho igual a 2%"
   ]
  },
  {
   "cell_type": "code",
   "execution_count": 18,
   "metadata": {},
   "outputs": [],
   "source": [
    "stock['aum_percentual_dia'] = np.nan # criando uma coluna NAN\n",
    "\n",
    "for i in range(1, len(stock)):\n",
    "\n",
    "    diff = (stock['High'].iloc[i] - stock['Open'].iloc[i])\n",
    "    \n",
    "    pct_change = (diff / stock['Open'].iloc[i]) * 100\n",
    "    # print(f\"Max: {stock['High'].iloc[i]} , Open: {stock['Open'].iloc[i]} , % {pct_change}\")\n",
    "    #armazena o vlaor encontrado\n",
    "    stock.loc[stock.index[i] ,'aum_percentual_dia'] = pct_change\n",
    "\n",
    "n_vezes_p_abertura_plus = stock[stock['aum_percentual_dia'] > VAR_P_CLOSE_P_OPEN + VAR_P_CHANGE ]['aum_percentual_dia'].count()"
   ]
  },
  {
   "cell_type": "markdown",
   "metadata": {},
   "source": [
    "Varificar quantos dias houve um ganho qualquer no fechamento."
   ]
  },
  {
   "cell_type": "code",
   "execution_count": 19,
   "metadata": {},
   "outputs": [
    {
     "name": "stdout",
     "output_type": "stream",
     "text": [
      "2\n"
     ]
    }
   ],
   "source": [
    "n_vezes_ganho = stock[stock['Close'] > stock['Open']]['Close'].\\\n",
    "    count()\n",
    "print(n_vezes_ganho)"
   ]
  },
  {
   "cell_type": "markdown",
   "metadata": {},
   "source": [
    "## Conclusao...\n",
    "\n",
    "Para esse papel em especifico a estrategia adotada resulta em um ganho improvavel..."
   ]
  },
  {
   "cell_type": "code",
   "execution_count": 20,
   "metadata": {},
   "outputs": [
    {
     "name": "stdout",
     "output_type": "stream",
     "text": [
      "Informação para o titulo AAPL34.SA\n",
      "Numero de DIAS que valor de abertura maior que 3% : 4\n",
      "Numero de DIAS com VALOR MAX maior que 4% : 1\n",
      "Uma porcentagem de 25.00%\n",
      "Numero de DIAS que houve um ganho quaquer no valor de fechamento : 2\n",
      "Uma porcentagem de 50.00%\n"
     ]
    }
   ],
   "source": [
    "print(f'Informação para o titulo {titulo}')\n",
    "print(f'Numero de DIAS que valor de abertura maior que {VAR_P_CLOSE_P_OPEN}% : {n_vezes_p_abertura_maior}')\n",
    "print(f'Numero de DIAS com VALOR MAX maior que {VAR_P_CLOSE_P_OPEN + VAR_P_CHANGE }% : {n_vezes_p_abertura_plus}')\n",
    "print(f'Uma porcentagem de {n_vezes_p_abertura_plus / n_vezes_p_abertura_maior * 100 :.2f}%')\n",
    "print(f'Numero de DIAS que houve um ganho quaquer no valor de fechamento : {n_vezes_ganho}')\n",
    "print(f'Uma porcentagem de {n_vezes_ganho / n_vezes_p_abertura_maior * 100 :.2f}%')\n"
   ]
  },
  {
   "cell_type": "markdown",
   "metadata": {},
   "source": [
    "No poximo arquivo vamos sondar quais as acoes, dentro de todas as acoes brasileiras, qual podemos aplicar tal metodologia.\n",
    "\n",
    "O arquivo `Listar_acoes.py` faz uma analize de todas as açcoes do mercado Brasileiro e retona um data frame com as acoes que possuem uma real probabilidade de ganho.\n",
    "\n",
    "Para um valor de abertura de 1% e um rendimento de 0.5% temos as seguintes acoes...\n",
    "\n",
    "```python\n",
    "0   ARML3.SA           63            46       73.015873                44   69.841270\n",
    "1   BMLC11.SA           63            48       76.190476                52   82.539683\n",
    "2   BPML11.SA           94            72       76.595745                84   89.361702\n",
    "3   BRBI11.SA           48            34       70.833333                30   62.500000\n",
    "4    CLSA3.SA           71            56       78.873239                45   63.380282\n",
    "5    EVEN3.SA           39            31       79.487179                26   66.666667\n",
    "6    HBSA3.SA           38            28       73.684211                23   60.526316\n",
    "7   HOFC11.SA           30            23       76.666667                26   86.666667\n",
    "8    LOGN3.SA           60            45       75.000000                41   68.333333\n",
    "9   NEWU11.SA           72            52       72.222222                57   79.166667\n",
    "10  PAGS34.SA           74            54       72.972973                46   62.162162\n",
    "11   PLPL3.SA           58            49       84.482759                35   60.344828\n",
    "12   ROMI3.SA           30            23       76.666667                22   73.333333\n",
    "13   TRIS3.SA           48            36       75.000000                29   60.416667\n",
    "14   VLID3.SA           62            44       70.967742                39   62.903226\n",
    "15   VULC3.SA           42            30       71.428571                31   73.809524\n",
    "16  WALM34.SA           47            38       80.851064                41   87.234043\n",
    "```"
   ]
  }
 ],
 "metadata": {
  "kernelspec": {
   "display_name": "venv",
   "language": "python",
   "name": "python3"
  },
  "language_info": {
   "codemirror_mode": {
    "name": "ipython",
    "version": 3
   },
   "file_extension": ".py",
   "mimetype": "text/x-python",
   "name": "python",
   "nbconvert_exporter": "python",
   "pygments_lexer": "ipython3",
   "version": "3.10.12"
  }
 },
 "nbformat": 4,
 "nbformat_minor": 2
}
